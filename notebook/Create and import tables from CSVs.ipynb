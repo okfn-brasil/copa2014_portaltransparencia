{
 "metadata": {
  "name": "",
  "signature": "sha256:67851022dd14162ebb538cc99e18f42eb754310767c05ef5c68ba3e6589fda8f"
 },
 "nbformat": 3,
 "nbformat_minor": 0,
 "worksheets": [
  {
   "cells": [
    {
     "cell_type": "code",
     "collapsed": false,
     "input": [
      "# for f in 20140620_*csv ; do sed -e ':a;N;$!ba;s/\\r\\n/\\\\n/g' $f > ${f/new-/} ; done\n",
      "\n",
      "t_descs = !ls ../data/*txt\n",
      "table_code = \"CREATE TABLE `{name}` ({tid}{cols}) CHARACTER SET utf8;\\n\\n\"\n",
      "refs = {}\n",
      "table = {}\n",
      "insert_files = {}\n",
      "insert_content = ['SET FOREIGN_KEY_CHECKS=0;\\n\\n']\n",
      "\n",
      "to_text = lambda x: 'text' if x == 'varchar' or x == 'ntext' else x\n",
      "\n",
      "for table_file in t_descs:\n",
      "    table_name = re.compile(r'[^_]*_(.*)\\.txt$').match(table_file).group(1)\n",
      "    ins_file = '{}.csv'.format(re.compile(r'.*/(.*)\\.txt$').match(table_file).group(1))\n",
      "    \n",
      "    header_file = !cut -f1,2 $table_file\n",
      "    columns = [l.split('\\t') for l in header_file]\n",
      "    prim_key = columns[0]\n",
      "    for_keys = [e for e in columns[1:] if e[0][:2] == 'Id']\n",
      "    if table_name != 'Grupo_Entidade':\n",
      "        tid = '`{}` {} primary key'.format(prim_key[0], prim_key[1])\n",
      "    else:\n",
      "        tid = '`{}` {}'.format(prim_key[0], prim_key[1])\n",
      "        \n",
      "    cols = ''.join([', {} {}'.format(c[0], to_text(c[1])) for c in columns[1:]])\n",
      "    \n",
      "    insert_line = 'SELECT \\'{}\\';\\nLOAD DATA INFILE \\'/var/tmp/cdata/{}\\' INTO TABLE {} FIELDS TERMINATED BY \\';\\' ENCLOSED BY \\'\"\\' ({});\\n\\n'\n",
      "    insert_content += insert_line.format(table_name, ins_file, table_name, ', '.join(['`{}`'.format(c[0]) for c in columns]))\n",
      "\n",
      "    \n",
      "    for fk in for_keys:\n",
      "        if not refs.has_key(fk[0][2:]):\n",
      "            refs[fk[0][2:]] = []\n",
      "        refs[fk[0][2:]].append('ALTER TABLE `{}` ADD FOREIGN KEY (`{}`) REFERENCES `{}`(`{}`);\\n\\n'.format(table_name, fk[0], fk[0][2:], fk[0]))\n",
      "    \n",
      "    table[table_name] = table_code.format(name=table_name, tid=tid, cols=cols)\n",
      "\n",
      "# sql for tables creation\n",
      "output_content = ''.join(table.values()) + ''.join([''.join(refs[r]) for r in [r for r in refs.keys() if r in table.keys() and r != 'Grupo_Entidade']])\n",
      "output_file = open('create_tables.sql', 'w')\n",
      "output_file.write(output_content)\n",
      "output_file.flush()\n",
      "\n",
      "# sql for data insertion\n",
      "insert_content = ''.join(insert_content)\n",
      "output_file = open('insert.sql', 'w')\n",
      "output_file.write(insert_content)\n",
      "output_file.flush()\n",
      "    "
     ],
     "language": "python",
     "metadata": {},
     "outputs": [],
     "prompt_number": 279
    }
   ],
   "metadata": {}
  }
 ]
}