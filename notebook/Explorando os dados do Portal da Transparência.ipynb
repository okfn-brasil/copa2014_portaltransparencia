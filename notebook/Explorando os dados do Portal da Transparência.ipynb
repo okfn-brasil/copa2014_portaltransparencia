{
 "metadata": {
  "name": "",
  "signature": "sha256:988e504a987a847385ab6b1595dd48af55dc18290d28e75decf45939de99c7ce"
 },
 "nbformat": 3,
 "nbformat_minor": 0,
 "worksheets": [
  {
   "cells": [
    {
     "cell_type": "code",
     "collapsed": false,
     "input": [
      "import pandas as pd"
     ],
     "language": "python",
     "metadata": {},
     "outputs": [],
     "prompt_number": 7
    },
    {
     "cell_type": "code",
     "collapsed": false,
     "input": [
      "def load_data(file_name):\n",
      "    header_file = '../data/{}.txt'.format(file_name)\n",
      "    header = !cut -f1 $header_file\n",
      "    data = pd.read_csv('../data/{}.csv'.format(file_name), sep=';', header=False)\n",
      "    data.columns = header + ['noname_{}'.format(i) for i in range(len(data.columns) - len(header))]\n",
      "    \n",
      "    return data"
     ],
     "language": "python",
     "metadata": {},
     "outputs": [],
     "prompt_number": 1
    },
    {
     "cell_type": "code",
     "collapsed": false,
     "input": [
      "obras = load_data('20140620_Empreendimento')\n",
      "cidades = load_data('20140620_CidadeSede')\n",
      "obras_tema = load_data('20140620_Tema')"
     ],
     "language": "python",
     "metadata": {},
     "outputs": [],
     "prompt_number": 4
    },
    {
     "cell_type": "markdown",
     "metadata": {},
     "source": [
      "# Temas das obras"
     ]
    },
    {
     "cell_type": "code",
     "collapsed": false,
     "input": [
      "obras_tema[['IdTema','DescTema']]"
     ],
     "language": "python",
     "metadata": {},
     "outputs": [
      {
       "html": [
        "<div style=\"max-height:1000px;max-width:1500px;overflow:auto;\">\n",
        "<table border=\"1\" class=\"dataframe\">\n",
        "  <thead>\n",
        "    <tr style=\"text-align: right;\">\n",
        "      <th></th>\n",
        "      <th>IdTema</th>\n",
        "      <th>DescTema</th>\n",
        "    </tr>\n",
        "  </thead>\n",
        "  <tbody>\n",
        "    <tr>\n",
        "      <th>0 </th>\n",
        "      <td>  3</td>\n",
        "      <td>                              Cultura e Educa\u00e7\u00e3o</td>\n",
        "    </tr>\n",
        "    <tr>\n",
        "      <th>1 </th>\n",
        "      <td>  4</td>\n",
        "      <td>                       Desenvolvimento Tur\u00edstico</td>\n",
        "    </tr>\n",
        "    <tr>\n",
        "      <th>2 </th>\n",
        "      <td>  5</td>\n",
        "      <td>                                         Energia</td>\n",
        "    </tr>\n",
        "    <tr>\n",
        "      <th>3 </th>\n",
        "      <td>  6</td>\n",
        "      <td>                                        Est\u00e1dios</td>\n",
        "    </tr>\n",
        "    <tr>\n",
        "      <th>4 </th>\n",
        "      <td>  7</td>\n",
        "      <td>                                   Meio Ambiente</td>\n",
        "    </tr>\n",
        "    <tr>\n",
        "      <th>5 </th>\n",
        "      <td>  8</td>\n",
        "      <td>                               Mobilidade Urbana</td>\n",
        "    </tr>\n",
        "    <tr>\n",
        "      <th>6 </th>\n",
        "      <td>  9</td>\n",
        "      <td>                                          Outros</td>\n",
        "    </tr>\n",
        "    <tr>\n",
        "      <th>7 </th>\n",
        "      <td> 10</td>\n",
        "      <td>                                          Portos</td>\n",
        "    </tr>\n",
        "    <tr>\n",
        "      <th>8 </th>\n",
        "      <td> 11</td>\n",
        "      <td>                Promo\u00e7\u00e3o Comercial e Tecnol\u00f3gica</td>\n",
        "    </tr>\n",
        "    <tr>\n",
        "      <th>9 </th>\n",
        "      <td> 12</td>\n",
        "      <td>                                      Saneamento</td>\n",
        "    </tr>\n",
        "    <tr>\n",
        "      <th>10</th>\n",
        "      <td> 13</td>\n",
        "      <td>                                           Sa\u00fade</td>\n",
        "    </tr>\n",
        "    <tr>\n",
        "      <th>11</th>\n",
        "      <td> 14</td>\n",
        "      <td>                               Seguran\u00e7a P\u00fablica</td>\n",
        "    </tr>\n",
        "    <tr>\n",
        "      <th>12</th>\n",
        "      <td> 15</td>\n",
        "      <td>                                Telecomunica\u00e7\u00f5es</td>\n",
        "    </tr>\n",
        "    <tr>\n",
        "      <th>13</th>\n",
        "      <td> 16</td>\n",
        "      <td>                          Centros de Treinamento</td>\n",
        "    </tr>\n",
        "    <tr>\n",
        "      <th>14</th>\n",
        "      <td> 17</td>\n",
        "      <td> Estruturas Tempor\u00e1rias (Copa das Confedera\u00e7\u00f5es)</td>\n",
        "    </tr>\n",
        "    <tr>\n",
        "      <th>15</th>\n",
        "      <td> 18</td>\n",
        "      <td>                                     Comunica\u00e7\u00e3o</td>\n",
        "    </tr>\n",
        "  </tbody>\n",
        "</table>\n",
        "</div>"
       ],
       "metadata": {},
       "output_type": "pyout",
       "prompt_number": 5,
       "text": [
        "    IdTema                                         DescTema\n",
        "0        3                               Cultura e Educa\u00e7\u00e3o\n",
        "1        4                        Desenvolvimento Tur\u00edstico\n",
        "2        5                                          Energia\n",
        "3        6                                         Est\u00e1dios\n",
        "4        7                                    Meio Ambiente\n",
        "5        8                                Mobilidade Urbana\n",
        "6        9                                           Outros\n",
        "7       10                                           Portos\n",
        "8       11                 Promo\u00e7\u00e3o Comercial e Tecnol\u00f3gica\n",
        "9       12                                       Saneamento\n",
        "10      13                                            Sa\u00fade\n",
        "11      14                                Seguran\u00e7a P\u00fablica\n",
        "12      15                                 Telecomunica\u00e7\u00f5es\n",
        "13      16                           Centros de Treinamento\n",
        "14      17  Estruturas Tempor\u00e1rias (Copa das Confedera\u00e7\u00f5es)\n",
        "15      18                                      Comunica\u00e7\u00e3o"
       ]
      }
     ],
     "prompt_number": 5
    },
    {
     "cell_type": "markdown",
     "metadata": {},
     "source": [
      "## Total previsto para Est\u00e1dios e Mobilidade Urbana por cidade "
     ]
    },
    {
     "cell_type": "code",
     "collapsed": false,
     "input": [
      "total_cidades = {}\n",
      "output_content = 'Cidade, Total Previsto'\n",
      "for cid, cid_obras in obras[(obras['IdTema'] == 6) | (obras['IdTema'] == 8)].groupby('IdCidadeSede'):\n",
      "    if len(cidades[cidades['IdCidadeSede'] == int(cid)]['DescCidadeSede']) > 0:\n",
      "        cidade = cidades[cidades['IdCidadeSede'] == int(cid)]['DescCidadeSede'].values[0]\n",
      "        total_cidades[cidade] = cid_obras['ValTotalPrevisto'].sum()\n",
      "        output_content += '\\n{}, {}'.format(cidade, cid_obras['ValTotalPrevisto'].sum())\n",
      "        \n",
      "f = open('cidades_total.csv', 'w')\n",
      "f.write(output_content)\n",
      "f.flush()"
     ],
     "language": "python",
     "metadata": {},
     "outputs": [],
     "prompt_number": 20
    },
    {
     "cell_type": "markdown",
     "metadata": {},
     "source": [
      "## Obras agrupadas por cidade do tema Est\u00e1dios ou Mobilidade Urbana"
     ]
    },
    {
     "cell_type": "code",
     "collapsed": false,
     "input": [
      "for cid, cid_obras in obras[(obras['IdTema'] == 6) | (obras['IdTema'] == 8)].groupby('IdCidadeSede'):\n",
      "    if len(cidades[cidades['IdCidadeSede'] == int(cid)]['DescCidadeSede']) > 0:\n",
      "        cidade = cidades[cidades['IdCidadeSede'] == int(cid)]['DescCidadeSede'].values[0]\n",
      "        for idx, obra in cid_obras.iterrows():\n",
      "            print '{}, {}, {}'.format(cidade, obra['DescEmpreendimento'], obra['ValTotalPrevisto'])"
     ],
     "language": "python",
     "metadata": {},
     "outputs": [
      {
       "output_type": "stream",
       "stream": "stdout",
       "text": [
        "Rio de Janeiro, Reforma do Est\u00e1dio M\u00e1rio Filho (Maracan\u00e3), 1050000000.0\n",
        "Rio de Janeiro, BRT Transcarioca (Aeroporto / Penha / Barra), 1582200000.0\n",
        "Rio de Janeiro, Entorno do Est\u00e1dio do Maracan\u00e3: Projeto de Reurbaniza\u00e7\u00e3o do Entorno do Est\u00e1dio do Maracan\u00e3 e Liga\u00e7\u00e3o com a Quinta da Boa Vista - 1\u00aa Fase, 109600000.0\n",
        "Rio de Janeiro, Entorno do Est\u00e1dio do Maracan\u00e3: Reformula\u00e7\u00e3o e Moderniza\u00e7\u00e3o da Esta\u00e7\u00e3o Multimodal do Maracan\u00e3, 174800000.0\n",
        "Salvador, Reconstru\u00e7\u00e3o do Est\u00e1dio da Fonte Nova, 689400000.0\n",
        "Salvador, Entorno Est\u00e1dio Fonte Nova: Microacessibilidade, 13474335.61\n",
        "Salvador, Entorno Est\u00e1dio Fonte Nova: rotas de Pedestres, 7150000.0\n",
        "S\u00e3o Paulo, Constru\u00e7\u00e3o da Arena S\u00e3o Paulo (Itaquera), 820000000.0\n",
        "S\u00e3o Paulo, Interven\u00e7\u00f5es Vi\u00e1rias no entorno do Polo de  Desenvolvimento da Zona Leste, 548507000.0\n",
        "Bras\u00edlia, Reforma do Est\u00e1dio Nacional de Bras\u00edlia, 1403300000.0\n",
        "Bras\u00edlia, Amplia\u00e7\u00e3o da DF-047, 44200000.0\n",
        "Cuiab\u00e1, Constru\u00e7\u00e3o da Arena Multiuso Pantanal, 570100000.0\n",
        "Cuiab\u00e1, Corredor M\u00e1rio Andreazza, 46000000.0\n",
        "Cuiab\u00e1, VLT: Cuiab\u00e1 / V\u00e1rzea Grande, 1577600000.0\n",
        "Cuiab\u00e1, Adequa\u00e7\u00e3o Vi\u00e1ria e Obras de Acessibilidade \u00e0 Arena Multiuso Pantanal, 95800000.0\n",
        "Curitiba, Complexo Esportivo Curitiba 2014 (Reforma e Amplia\u00e7\u00e3o do Est\u00e1dio), 326700000.0\n",
        "Curitiba, Corredor Aeroporto / Rodoferrovi\u00e1ria - Trecho Municipal, 131700000.0\n",
        "Curitiba, Sistema Integrado de Monitoramento - Trecho Municipal, 61600000.0\n",
        "Curitiba, Requalifica\u00e7\u00e3o da Rodoferrovi\u00e1ria (inclusive acessos), 48900000.0\n",
        "Curitiba, BRT: Extens\u00e3o da Linha Verde Sul e Obras Complementares da Requalifica\u00e7\u00e3o do Corredor Marechal Floriano, 24200000.0\n",
        "Curitiba, Requalifica\u00e7\u00e3o do Terminal Santa C\u00e2ndida (reforma e amplia\u00e7\u00e3o), 12600000.0\n",
        "Curitiba, Requalifica\u00e7\u00e3o do Corredor Marechal Floriano - Trecho Estadual, 23400000.0\n",
        "Curitiba, Vias de Integra\u00e7\u00e3o Radial Metropolitanas, 53300000.0\n",
        "Curitiba, Sistema Integrado de Monitoramento - Trecho Metropolitano, 20400000.0\n",
        "Curitiba, Requalifica\u00e7\u00e3o do Corredor Marechal Floriano - Trecho Municipal, 38600000.0\n",
        "Curitiba, Corredor Aeroporto / Rodoferrovi\u00e1ria - Trecho Estadual, 51500000.0\n",
        "Fortaleza, Reforma do Est\u00e1dio Governador Pl\u00e1cido Castelo (Castel\u00e3o), 518606000.0\n",
        "Fortaleza, VLT: Parangaba/Mucuripe, 275448557.98\n",
        "Fortaleza, Eixo Via Expressa/Raul Barbosa, 151600000.0\n",
        "Fortaleza, BRT Avenida Ded\u00e9 Brasil, 41600000.0\n",
        "Fortaleza, BRT Avenida Alberto Craveiro, 33700000.0\n",
        "Fortaleza, BRT Avenida Paulino Rocha, 34600000.0\n",
        "Fortaleza, Esta\u00e7\u00f5es Padre C\u00edcero e Juscelino Kubitschek, nan\n",
        "Manaus, Reconstru\u00e7\u00e3o da Arena da Amaz\u00f4nia, 669500000.0\n",
        "Natal, Constru\u00e7\u00e3o da Arena das Dunas, 400000000.0\n",
        "Natal, Acesso ao Novo Aeroporto de S\u00e3o Gon\u00e7alo do Amarante, 73100000.0\n",
        "Natal, Corredor Estruturante \u2013 Zona Norte/Est\u00e1dio Arena das Dunas, 370947996.91\n",
        "Natal, Eixo 2: Implanta\u00e7\u00e3o da Via Prudente de Morais, 28200000.0\n",
        "Porto Alegre, Reforma do Est\u00e1dio Beira Rio, 330000000.0\n",
        "Porto Alegre, Entorno Beira Rio: 3 Vias de Acesso, 8000000.0\n",
        "Porto Alegre, Projeto de Pavimenta\u00e7\u00e3o do Entorno do  Est\u00e1dio Beira-Rio, 7872222.22\n",
        "Recife, Constru\u00e7\u00e3o da Arena Pernambuco, 532600000.0\n",
        "Recife, BRT: Leste/Oeste - Ramal Cidade da Copa, 137000000.0\n",
        "Recife, BRT: Norte / Sul - Trecho Igarassu / Tacaruna / Centro do Recife, 180900000.0\n",
        "Recife, Corredor Caxang\u00e1 (Leste-Oeste), 88100000.0\n",
        "Recife, Corredor da Via Mangue, 433202973.73\n",
        "Recife, Metr\u00f4: Terminal Cosme e Dami\u00e3o, 19100000.0\n",
        "Recife, Entorno Arena Pernambuco: Viaduto da BR-408, 25000000.0\n",
        "Recife, Entorno Arena Pernambuco: Esta\u00e7\u00e3o de metr\u00f4 Cosme e Dami\u00e3o, 7370000.0\n"
       ]
      }
     ],
     "prompt_number": 130
    },
    {
     "cell_type": "code",
     "collapsed": false,
     "input": [
      "bar(range(len(total_cidades.values())),total_cidades.values())"
     ],
     "language": "python",
     "metadata": {},
     "outputs": [
      {
       "metadata": {},
       "output_type": "pyout",
       "prompt_number": 18,
       "text": [
        "<Container object of 11 artists>"
       ]
      },
      {
       "metadata": {},
       "output_type": "display_data",
       "png": "[encoded data removed]",
       "text": [
        "<matplotlib.figure.Figure at 0x4ef6490>"
       ]
      }
     ],
     "prompt_number": 18
    },
    {
     "cell_type": "code",
     "collapsed": false,
     "input": [],
     "language": "python",
     "metadata": {},
     "outputs": []
    }
   ],
   "metadata": {}
  }
 ]
}